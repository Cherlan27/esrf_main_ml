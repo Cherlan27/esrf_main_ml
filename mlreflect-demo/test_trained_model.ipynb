{
 "cells": [
  {
   "cell_type": "code",
   "execution_count": 5,
   "id": "fe1e8e3c",
   "metadata": {},
   "outputs": [],
   "source": [
    "import numpy as np\n",
    "from mlreflect.curve_fitter import example_ascii_file_path\n",
    "#from mlreflect.curve_fitter import CurveFitter\n",
    "#from mlreflect.models import DefaultTrainedModel"
   ]
  },
  {
   "cell_type": "code",
   "execution_count": 6,
   "id": "31e7b439",
   "metadata": {},
   "outputs": [],
   "source": [
    "experiment = np.loadtxt(example_ascii_file_path)"
   ]
  },
  {
   "cell_type": "code",
   "execution_count": 7,
   "id": "bc9664b2",
   "metadata": {},
   "outputs": [],
   "source": [
    "q = experiment[:, 0] # Extract q values\n",
    "experimental_reflectivity = experiment[:, 1:2].T # Extract intensity values"
   ]
  },
  {
   "cell_type": "code",
   "execution_count": 7,
   "id": "6d42157d",
   "metadata": {},
   "outputs": [],
   "source": [
    "curve_fitter = CurveFitter(DefaultTrainedModel())"
   ]
  },
  {
   "cell_type": "code",
   "execution_count": 8,
   "id": "5058b8fb",
   "metadata": {},
   "outputs": [],
   "source": [
    "experimental_fit_output = curve_fitter.fit_curve(experimental_reflectivity, q, polish=True, optimize_q=True)\n",
    "pred_experimental_reflectivity = experimental_fit_output['predicted_reflectivity']\n",
    "pred_experimental_test_labels = experimental_fit_output['predicted_parameters']"
   ]
  },
  {
   "cell_type": "code",
   "execution_count": 9,
   "id": "6270829a",
   "metadata": {},
   "outputs": [
    {
     "data": {
      "text/plain": [
       "array([10.        , 10.9789157 ,  1.        ,  2.5       , 10.35159885,\n",
       "       20.0701    , 17.7735    ,  1.60404294,  0.        ])"
      ]
     },
     "execution_count": 9,
     "metadata": {},
     "output_type": "execute_result"
    }
   ],
   "source": [
    "np.array(pred_experimental_test_labels).astype(np.float64).flatten()"
   ]
  },
  {
   "cell_type": "code",
   "execution_count": 10,
   "id": "b477412a",
   "metadata": {},
   "outputs": [
    {
     "data": {
      "text/plain": [
       "dtype('float64')"
      ]
     },
     "execution_count": 10,
     "metadata": {},
     "output_type": "execute_result"
    }
   ],
   "source": [
    "experiment.dtype"
   ]
  },
  {
   "cell_type": "code",
   "execution_count": 16,
   "id": "504ce716",
   "metadata": {},
   "outputs": [
    {
     "data": {
      "text/plain": [
       "(1, 52)"
      ]
     },
     "execution_count": 16,
     "metadata": {},
     "output_type": "execute_result"
    },
    {
     "name": "stdout",
     "output_type": "stream",
     "text": [
      "ERROR! Session/line number was not unique in database. History logging moved to new session 97\n"
     ]
    }
   ],
   "source": [
    "experimental_reflectivity.shape"
   ]
  },
  {
   "cell_type": "code",
   "execution_count": 8,
   "id": "8153b89a",
   "metadata": {},
   "outputs": [
    {
     "data": {
      "text/plain": [
       "array([[0.9574816 , 0.94820342, 0.94534074, 0.95230487, 0.95359337,\n",
       "        0.94913942, 0.93683657, 0.92039916, 0.60654331, 0.34925741,\n",
       "        0.16574371, 0.07683227, 0.04995361, 0.03298186, 0.0237555 ,\n",
       "        0.01736032, 0.01326354, 0.01030187, 0.0082099 , 0.00655951,\n",
       "        0.00525457, 0.00432509, 0.00361483, 0.00304993, 0.00258166,\n",
       "        0.00210647, 0.00171091, 0.00152393, 0.00134046, 0.00108694,\n",
       "        0.00089731, 0.00078318, 0.00068633, 0.0006053 , 0.00053425,\n",
       "        0.00047185, 0.00042054, 0.00037676, 0.00033902, 0.00030543,\n",
       "        0.00027253, 0.00024309, 0.00022261, 0.00020262, 0.00017743,\n",
       "        0.0001577 , 0.00014563, 0.00013372, 0.00012167, 0.00011075,\n",
       "        0.00010085, 0.00009138]])"
      ]
     },
     "execution_count": 8,
     "metadata": {},
     "output_type": "execute_result"
    }
   ],
   "source": [
    "experimental_reflectivity"
   ]
  },
  {
   "cell_type": "code",
   "execution_count": 7,
   "id": "b9ebf72f",
   "metadata": {},
   "outputs": [],
   "source": [
    "np.set_printoptions(suppress=True)"
   ]
  },
  {
   "cell_type": "code",
   "execution_count": 12,
   "id": "794baf04",
   "metadata": {},
   "outputs": [
    {
     "data": {
      "text/plain": [
       "dict_keys(['predicted_reflectivity', 'predicted_parameters', 'best_q_shift', 'best_scaling'])"
      ]
     },
     "execution_count": 12,
     "metadata": {},
     "output_type": "execute_result"
    }
   ],
   "source": [
    "experimental_fit_output.keys()"
   ]
  },
  {
   "cell_type": "code",
   "execution_count": 20,
   "id": "0ae58692",
   "metadata": {},
   "outputs": [
    {
     "data": {
      "text/plain": [
       "array([[10.        +0.j    , 10.9789157 +0.j    ,  1.        +0.j    ,\n",
       "         2.5       +0.j    , 10.35159885+0.j    , 20.0701    +0.4571j,\n",
       "        17.7735    +0.4048j,  1.60404294+0.j    ,  0.        +0.j    ]])"
      ]
     },
     "execution_count": 20,
     "metadata": {},
     "output_type": "execute_result"
    },
    {
     "name": "stdout",
     "output_type": "stream",
     "text": [
      "ERROR! Session/line number was not unique in database. History logging moved to new session 106\n"
     ]
    }
   ],
   "source": [
    "np.array(experimental_fit_output[\"predicted_parameters\"])"
   ]
  },
  {
   "cell_type": "code",
   "execution_count": 19,
   "id": "3a4b685b",
   "metadata": {},
   "outputs": [
    {
     "data": {
      "text/plain": [
       "['SiOx_thickness',\n",
       " 'Film_thickness',\n",
       " 'Si_roughness',\n",
       " 'SiOx_roughness',\n",
       " 'Film_roughness',\n",
       " 'Si_sld',\n",
       " 'SiOx_sld',\n",
       " 'Film_sld',\n",
       " 'Air_sld']"
      ]
     },
     "execution_count": 19,
     "metadata": {},
     "output_type": "execute_result"
    }
   ],
   "source": [
    "list(experimental_fit_output[\"predicted_parameters\"])"
   ]
  },
  {
   "cell_type": "code",
   "execution_count": 21,
   "id": "7ffbe2e9",
   "metadata": {},
   "outputs": [
    {
     "data": {
      "text/plain": [
       "array([[10.        , 10.9789157 ,  1.        ,  2.5       , 10.35159885,\n",
       "        20.0701    , 17.7735    ,  1.60404294,  0.        ]])"
      ]
     },
     "execution_count": 21,
     "metadata": {},
     "output_type": "execute_result"
    }
   ],
   "source": [
    "np.real(np.array(experimental_fit_output[\"predicted_parameters\"]))"
   ]
  },
  {
   "cell_type": "code",
   "execution_count": 22,
   "id": "84d7d207",
   "metadata": {},
   "outputs": [
    {
     "data": {
      "text/plain": [
       "array([[0.    , 0.    , 0.    , 0.    , 0.    , 0.4571, 0.4048, 0.    ,\n",
       "        0.    ]])"
      ]
     },
     "execution_count": 22,
     "metadata": {},
     "output_type": "execute_result"
    }
   ],
   "source": [
    "np.imag(np.array(experimental_fit_output[\"predicted_parameters\"]))"
   ]
  },
  {
   "cell_type": "code",
   "execution_count": 23,
   "id": "77daf386",
   "metadata": {},
   "outputs": [
    {
     "data": {
      "text/plain": [
       "array([[10.        +0.j    , 10.9789157 +0.j    ,  1.        +0.j    ,\n",
       "         2.5       +0.j    , 10.35159885+0.j    , 20.0701    +0.4571j,\n",
       "        17.7735    +0.4048j,  1.60404294+0.j    ,  0.        +0.j    ]])"
      ]
     },
     "execution_count": 23,
     "metadata": {},
     "output_type": "execute_result"
    },
    {
     "name": "stdout",
     "output_type": "stream",
     "text": [
      "ERROR! Session/line number was not unique in database. History logging moved to new session 107\n"
     ]
    }
   ],
   "source": [
    "np.vectorize(complex)(np.real(np.array(experimental_fit_output[\"predicted_parameters\"])), np.imag(np.array(experimental_fit_output[\"predicted_parameters\"])))"
   ]
  },
  {
   "cell_type": "code",
   "execution_count": 25,
   "id": "122ecbfd",
   "metadata": {},
   "outputs": [
    {
     "data": {
      "text/plain": [
       "(1, 52)"
      ]
     },
     "execution_count": 25,
     "metadata": {},
     "output_type": "execute_result"
    }
   ],
   "source": [
    "np.array(experimental_fit_output[\"predicted_reflectivity\"]).shape"
   ]
  },
  {
   "cell_type": "code",
   "execution_count": 8,
   "id": "a8ab43c0",
   "metadata": {},
   "outputs": [
    {
     "data": {
      "text/plain": [
       "array([[9.57481604e-01, 9.48203422e-01, 9.45340741e-01, 9.52304867e-01,\n",
       "        9.53593373e-01, 9.49139418e-01, 9.36836575e-01, 9.20399156e-01,\n",
       "        6.06543313e-01, 3.49257408e-01, 1.65743706e-01, 7.68322698e-02,\n",
       "        4.99536135e-02, 3.29818642e-02, 2.37555026e-02, 1.73603195e-02,\n",
       "        1.32635357e-02, 1.03018723e-02, 8.20990284e-03, 6.55951258e-03,\n",
       "        5.25456777e-03, 4.32508758e-03, 3.61483422e-03, 3.04992978e-03,\n",
       "        2.58165638e-03, 2.10647132e-03, 1.71090748e-03, 1.52393489e-03,\n",
       "        1.34045654e-03, 1.08693727e-03, 8.97310186e-04, 7.83181382e-04,\n",
       "        6.86333749e-04, 6.05304565e-04, 5.34247485e-04, 4.71846573e-04,\n",
       "        4.20542182e-04, 3.76761226e-04, 3.39017077e-04, 3.05426712e-04,\n",
       "        2.72534446e-04, 2.43091632e-04, 2.22614718e-04, 2.02624352e-04,\n",
       "        1.77429625e-04, 1.57700914e-04, 1.45629724e-04, 1.33717102e-04,\n",
       "        1.21666464e-04, 1.10749587e-04, 1.00850848e-04, 9.13843274e-05]])"
      ]
     },
     "execution_count": 8,
     "metadata": {},
     "output_type": "execute_result"
    }
   ],
   "source": [
    "experimental_reflectivity"
   ]
  },
  {
   "cell_type": "code",
   "execution_count": null,
   "id": "97be8d2d",
   "metadata": {},
   "outputs": [],
   "source": []
  }
 ],
 "metadata": {
  "kernelspec": {
   "display_name": "Python 3",
   "language": "python",
   "name": "python3"
  },
  "language_info": {
   "codemirror_mode": {
    "name": "ipython",
    "version": 3
   },
   "file_extension": ".py",
   "mimetype": "text/x-python",
   "name": "python",
   "nbconvert_exporter": "python",
   "pygments_lexer": "ipython3",
   "version": "3.6.15"
  }
 },
 "nbformat": 4,
 "nbformat_minor": 5
}
